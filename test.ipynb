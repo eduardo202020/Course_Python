{
 "cells": [
  {
   "cell_type": "code",
   "execution_count": null,
   "metadata": {},
   "outputs": [],
   "source": []
  },
  {
   "cell_type": "code",
   "execution_count": 3,
   "metadata": {},
   "outputs": [
    {
     "name": "stdout",
     "output_type": "stream",
     "text": [
      "hola jose bienvenido a python\n"
     ]
    }
   ],
   "source": [
    "nombre = \"jose\"\n",
    "\n",
    "print(\"hola \" + nombre + \" bienvenido a python\")"
   ]
  },
  {
   "cell_type": "markdown",
   "metadata": {},
   "source": [
    "# Este es un titulo para mi codigo \n",
    "## ESTE ES UN SUBTITULO\n",
    "### ESTE ES UN SUBTITULO MAS PEQUEÑO\n"
   ]
  },
  {
   "cell_type": "markdown",
   "metadata": {},
   "source": []
  },
  {
   "cell_type": "code",
   "execution_count": 4,
   "metadata": {},
   "outputs": [
    {
     "name": "stdout",
     "output_type": "stream",
     "text": [
      "Hola, bienvenido a Python!\n",
      "La suma de 5 y 3 es igual a 8\n",
      "El cuadrado de 4 es 16\n"
     ]
    }
   ],
   "source": [
    "# Imprimir un mensaje en la consola\n",
    "print(\"Hola, bienvenido a Python!\")\n",
    "\n",
    "# Realizar una operación matemática\n",
    "a = 5\n",
    "b = 3\n",
    "suma = a + b\n",
    "print(\"La suma de\", a, \"y\", b, \"es igual a\", suma)\n",
    "\n",
    "# Definir una función\n",
    "def cuadrado(numero):\n",
    "    return numero ** 2\n",
    "\n",
    "# Llamar a la función y mostrar el resultado\n",
    "resultado = cuadrado(4)\n",
    "print(\"El cuadrado de 4 es\", resultado)\n"
   ]
  },
  {
   "cell_type": "markdown",
   "metadata": {},
   "source": []
  }
 ],
 "metadata": {
  "kernelspec": {
   "display_name": "Python 3",
   "language": "python",
   "name": "python3"
  },
  "language_info": {
   "codemirror_mode": {
    "name": "ipython",
    "version": 3
   },
   "file_extension": ".py",
   "mimetype": "text/x-python",
   "name": "python",
   "nbconvert_exporter": "python",
   "pygments_lexer": "ipython3",
   "version": "3.12.1"
  }
 },
 "nbformat": 4,
 "nbformat_minor": 2
}
